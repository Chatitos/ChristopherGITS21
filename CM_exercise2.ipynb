{
 "cells": [
  {
   "cell_type": "markdown",
   "metadata": {},
   "source": [
    "# Dark Souls\n",
    "\n",
    "[Source: Wikipedia](https://en.wikipedia.org/wiki/Dark_Souls)\n",
    "Disclaimer: All materials are being used for demonstration purposes only\n",
    "\n",
    "Dark Souls[b] is a 2011 action role-playing game developed by FromSoftware and published by Namco Bandai Games. A spiritual successor to FromSoftware's Demon's Souls, the game is the second installment in the Souls series. Dark Souls takes place in the fictional kingdom of Lordran, where players assume the role of a cursed undead character who begins a pilgrimage to discover the fate of their kind. A port for Microsoft Windows was released in August 2012, which featured additional content not seen in the original PlayStation 3 and Xbox 360 versions. In October 2012, the new content was made downloadable for consoles under the subtitle Artorias of the Abyss.\n",
    "\n",
    "Dark Souls has been cited as one of the best video games of all time. Critics praised the depth of its combat, intricate level design, and use of flavor text. However, the game's difficulty received more mixed reviews, with some criticizing it for being too unforgiving. The original Windows version of the game was less well-received, with criticism directed at several technical issues. By April 2013, the game had sold over two million copies worldwide. Two sequels were released in the mid-2010s, while a remastered version was released in"
   ]
  },
  {
   "cell_type": "markdown",
   "metadata": {},
   "source": [
    "![Dark souls image](https://upload.wikimedia.org/wikipedia/en/8/8d/Dark_Souls_Cover_Art.jpg)\n",
    "[Citation](https://en.wikipedia.org/w/index.php?curid=31848170)"
   ]
  },
  {
   "cell_type": "markdown",
   "metadata": {},
   "source": [
    "## Gameplay\n",
    "Dark Souls is a third-person action role-playing game. A core mechanic of the game is exploration. Players are encouraged by the game to proceed with caution, learn from past mistakes, or find alternative areas to explore. Dark Souls takes place in a large and continuous open world environment, connected through a central hub area. The player character can travel between areas and explore various paths at will, although prerequisites have to be met to unlock certain areas.[1][2][3][4]\n",
    "\n",
    "A central element to the gameplay of Dark Souls is the bonfire. Bonfires are scattered throughout the world and serve as checkpoints for each level. By resting at a bonfire, the player character is healed to full and regains all of the healing charges of their \"Estus Flask.\" They can also level up and perform other functions, such as attuning magic, and repairing and upgrading equipment. However, resting at a bonfire respawns all of the world's enemies, except for bosses, mini-bosses, and friendly non-playable characters.\n",
    "\n",
    "The player character's interaction with the world of Dark Souls includes a great deal of combat. Combat includes melee attacks, various forms of defensive maneuvering, and magical abilities. For melee attacks, player characters have access to a wide array of high fantasy, medieval-style weaponry—including swords, spears, and maces-as well as fantastical weaponry such as magical swords, huge greatswords, and immense clubs. For defense, player characters have access to shields, armor, evasion, and parrying. For magic, which includes a wide variety of offensive and defensive abilities known as sorceries, miracles, and pyromancies, player characters do not use any form of mana as in most other fantasy RPGs - instead, they gain a discrete number of uses for each attuned spell when resting at a bonfire. These various forms of combat all have tradeoffs, variations, and in-game costs associated with them; and they can all be buffed or altered in some fashion through leveling, smithing, consumable items, magical rings, and new equipment."
   ]
  },
  {
   "cell_type": "markdown",
   "metadata": {},
   "source": [
    "### Multiplayer \n",
    "Another aspect of Dark Souls is the \"humanity\" system. There are two forms the player character can be in during the game, human form or hollow form. Whenever the player character dies in human form, they are returned to hollow form and can only have their humanity restored by consuming an item. The player character must be in human form to summon other players. While in human form, however, the player may be subjected to invasions by other players and non-player characters (NPC) who seek to kill the player to restore their humanity, harvest souls, or achieve some other goal. Humanity can be acquired in many ways, and if no humanity is available, players are still able to progress in hollow form. Death results in the loss of all carried souls and humanity, but players revive as hollows at their most recent bonfire with one chance at returning to where they died to recover all lost souls and humanity. If the player dies before reaching their \"bloodstain,\" the souls and humanity they previously accrued are permanently lost.\n",
    "\n",
    "Communication and interaction between players are deliberately restricted. Outside of some character gestures, the only other communication players have with one another comes by way of orange soapstones, which allow players to write preset phrases that can be read by others in the same area. Also, players can enter cooperative or player versus player combat with each other.[5][6] Throughout the game, there are multiple NPCs that the player may encounter on their journey. These characters add to the plot of the game but are not essential. If the player does choose to engage with them, some of the characters can assist the player by being able to be summoned for certain boss fights when the player character is in human form."
   ]
  },
  {
   "cell_type": "markdown",
   "metadata": {},
   "source": [
    "## Synopsis\n",
    "\n",
    "Dark Souls employs minimalist storytelling to convey its plot and lore. Historical events in its world and their significance are often implicit or left to player interpretation rather than being fully shown or explained. Most of the story is given to the player through dialogue from non-player characters within the game, flavor text from items, and world design."
   ]
  },
  {
   "cell_type": "markdown",
   "metadata": {},
   "source": [
    "### Plot\n",
    "\n",
    "The opening cutscene establishes the premise of the game. Dragons once ruled the world during the \"Age of Ancients.\" A primordial fire known as the First Flame manifests in the world, establishing a distinction between life and death, as well as light and dark. Four beings find \"Lord Souls\" near the First Flame, granting immense power: Gwyn the Lord of Sunlight, Nito the First of the Dead, the Witch of Izalith, and the Furtive Pygmy. Gwyn, Nito, and the Witch use their new power to destroy the dragons and take control over the world, while the Furtive Pygmy is said to be forgotten, and thus begins the \"Age of Fire.\" Over time, the First Flame begins to fade while humans rise in power, and Gwyn sacrifices himself to prolong the Age of Fire. The main story takes place towards the end of this second Age of Fire, at which point humanity is said to be afflicted with an undead curse, related to a symbol on their bodies known as the Darksign. Those humans afflicted with the undead curse perpetually resurrect after death, until they eventually lose their minds, a process referred to as \"hollowing.\"\n",
    "\n",
    "The player character is a cursed undead, locked away in an undead asylum. After escaping the asylum, the player travels to Lordran to ring the Bells of Awakening. The bells awaken Kingseeker Frampt, who tells the player to ascend to Anor Londo, the home of the Gods. In Anor Londo, Gwynevere instructs the player to succeed Lord Gwyn and fulfill the prophecy. To accomplish this, the player must acquire the Lord Souls of the Witch of Izalith, Nito, the Four Kings, and the dragon Seath the Scaleless. Optionally, the player may encounter Darkstalker Kaathe who encourages the player not to link the fire but to let it die out and usher in the Age of Dark instead. Once the player acquires the Lord Souls, they travel to the Kiln of the First Flame to battle Gwyn. Once Gwyn has been defeated, the player has the choice of linking the flame to preserve the Age of Fire, or letting it die out to instigate the Age of Dark."
   ]
  },
  {
   "cell_type": "markdown",
   "metadata": {},
   "source": [
    "### Artorias of the Abyss \n",
    "In the Artorias of the Abyss expansion, the player is dragged into the past by Manus, Father of the Abyss to the land of Oolacile, which is being corrupted by Manus after the people awoke and angered him. Artorias, one of Lord Gwyn's four knights goes to defeat Manus and rescue Princess Dusk. Artorias is defeated and corrupted by the abyss, however, and the player must defeat him. The player then goes on to defeat Manus, although the victory is later attributed to Artorias."
   ]
  },
  {
   "cell_type": "markdown",
   "metadata": {},
   "source": [
    "## Development \n",
    "Dark Souls was developed by FromSoftware, with series creator Hidetaka Miyazaki directing and producing. Dark Souls is a spiritual successor to FromSoftware's cult classic previous game, Demon's Souls[7] (which was, in turn, a spiritual successor to FromSoftware's earlier King's Field series[8]). However, Demon's Souls was published by Sony and Dark Souls by Bandai Namco; this transfer meant that intellectual property rights prevented FromSoftware from making a sequel.[9][10] After two years of development, Dark Souls was released with its numerous similarities (such as the gameplay, online multiplayer, and plot presentation) and differences (such as a connected world and new characters in a distinct universe and storyline) from its predecessor.[11]\n",
    "\n",
    "The design and development process itself involved a guided freeform approach, with Miyazaki steering designers while allowing them latitude for creativity:\n",
    "\n",
    "The design ordering process for Dark Souls can be divided into two main categories. The first involves providing the designers with simple keywords we brainstormed during the early stages of project development and allowing them to design freely. We take the images they produce and provide feedback, make adjustments as necessary, or incorporate their ideas into our plans. [...] The second process comes into play once we've settled on the basic details of the game world. At that point we are able to make more detailed design requests. These requests usually include information like how the design will be used, where in the game the design will be used, and the specific purpose of the design in terms of what it will represent in the game. [...] Either way, I am the one who hands out the orders and I work directly with each designer instead of having a middleman between us.[12]\n",
    "\n",
    "Miyazaki stated that the game draws direct inspiration from earlier works of fantasy and dark fantasy, especially the manga series Berserk.[12][13] He has described the driving aesthetic principal of the game as being \"a certain kind of refinement, elegance, and dignity\".[12] He also described the themes which guided the design of the game in the following way: \"I put three major guidelines in place: Gods and knights centered around Anor Londo, demonic chaos and flames centered around Lost Izalith, and the theme of death centered around Gravelord Nito. To these themes we added the special concept of ancient dragons that predate all life, and this formed the basis for Dark Souls\".[12]\n",
    "\n",
    "The characters and world of Dark Souls contain many philosophical and folkloric parallels among Greek mythology,[14][15] Japanese mythology,[16] French existentialism,[17] and the work of proto-existentialist philosophers like Friedrich Nietzsche.[17] Dark Souls's description of natural cycles that the world experiences, and the designs of some individual characters, parallel Japanese and Greek myths.[14][16] The game's presentation of a universe defined by the inevitable burning out of a flame, and the tragic stories of the individuals in that meaningless world, parallel ideas in schools of philosophy concerning existentialism, absurdity, meaninglessness, and the end of the universe.[17]\n",
    "\n",
    "Many of the game's locations were directly inspired by real world locations, such as the Château de Chambord in France and Milan Cathedral in Italy.[12][18]"
   ]
  },
  {
   "cell_type": "markdown",
   "metadata": {},
   "source": [
    "## Release \n",
    "The game was first released for the PlayStation 3 and Xbox 360 in Japan on September 22, 2011, and in Western regions in October 2011. Following the game's success, many expressed their hope for a PC version.[19] In early 2012, fans started a petition to bring Dark Souls to PC, with over 93,000 people signing it.[20] A PC version of the game was confirmed in April 2012 via German magazine PC Action.[21] It had been reported during the development process that FromSoftware had been having difficulty with the port due to inexperience with PC as a platform and were focusing on new content rather than optimization.[22] Re-branded as the Prepare To Die Edition, it came out in August 2012 and featured new content, including bosses, enemies, equipment, and NPCs.[23] The new content, subtitled Artorias of the Abyss, was also released for consoles in October 2012 in the form of downloadable content (DLC).[24] Soon after, it was announced that Dark Souls for PC would use Games for Windows – Live for online play and DRM, spurring fan backlash.[25]\n",
    "\n",
    "The PC version was released on August 23, 2012. A user-created mod to circumvent the resolution cap, named DSFix, appeared shortly after release.[26] DSFix was later extended to become an unofficial fan-made patch which additionally allowed graphical improvements, raising the framerate cap to 60, and allowing the installation of custom texture mods.[27] On December 15, 2014, Games for Windows – Live was removed from the Steam version and replaced by Steamworks. The ability to transfer both achievements and save data was provided.[28] In April 2016, Dark Souls became available on Xbox One via backward compatibility.[29]"
   ]
  },
  {
   "cell_type": "markdown",
   "metadata": {},
   "source": [
    "## Reception \n",
    "Dark Souls received positive reviews from critics upon its release. One of the reviewers for Dark Souls described it as \"a very hardcore dark-fantasy [role-playing game]\" that is \"role-playing right down to the roots,\" and stated that the \"massive field map and powerful enemies serve to rev up both your sense of adventure and your sense of dread.\" Another reviewer said that \"the sheer happiness you get after the trial-and-error pays off and you overcome the challenge is absolutely impossible to replicate.\"[45]\n",
    "\n",
    "GameSpot praised the online system, as well as the sense of jubilation felt when conquering boss fights after numerous failed attempts. They also suggested that casual gamers may struggle to progress, whereas role-playing game enthusiasts will thrive on the difficulty.[36] IGN complimented the level design, variety, strong emphasis on online features, excessively dark tone and atmosphere, and deep gameplay. While praising the extreme difficulty, they stated that \"there's a difference between punishing, and downright unfair.\"[46] Eurogamer also applauded the level design and atmosphere while noting that the game's difficulty might not appeal to casual gamers.[33]\n",
    "\n",
    "Jason Killingsworth wrote a response to Thomsen's review for Edge, arguing that the game's \"vertigo-inducing breadth makes it the gaming equivalent of a marathon.\"[47] Killingsworth praised the game's length and addictive nature.[47] Edge later retroactively awarded the game 10 out of 10 in their October 2013 20th anniversary issue, stating that over time the breadth and quality of the game's design had overruled complaints about its difficulty.[31]\n",
    "\n",
    "Ben \"Yahtzee\" Croshaw of Zero Punctuation praised Dark Souls for its deep gameplay and immersive atmosphere, but was \"disappointed\" with the late-game bosses and criticized the difficulty of getting into the game, saying that it would be a critical factor in turning new players off.[48] He later named it the most historically significant game of the 2010s \"now that every other game seeks to ape it, and the media calls every milk float with a slightly stiff break pedal 'the Dark Souls of commercial transportation'\". Croshaw praised it for \"remind[ing] us that games are games\" as opposed to \"cinematic experiences\" like Uncharted, with \"their own strengths: depth of exploration and discovery, the satisfaction of overcoming meaty challenges\".[49]\n",
    "\n",
    "Game Informer Phil Kollar opined that \"the frustration in Dark Souls arises from how [late '00s and early 2010s] games have conditioned us. Gamers are used to handholding tutorials that walk you through every aspect of a game’s mechanics.\" While complimenting the game's notoriously steep difficulty curve, Kollar was less favorable toward its \"overall lack of direction\".[39]\n",
    "\n",
    "Namco Bandai's yearly financial report stated that the game sold 1.19 million units in the United States and Europe by March 2012.[50] FromSoftware announced in April 2013 that the game had sold 2.37 million units worldwide.[51][52]"
   ]
  },
  {
   "cell_type": "markdown",
   "metadata": {},
   "source": [
    "## Awards \n",
    "\n",
    "Game Revolution gave Dark Souls the Community Choice Game of the Year award.[56] IncGamers also gave it the \"Game of the Year\" award.[57] Q-Games' Dylan Cuthbert and Double Fine Productions' Brad Muir chose Dark Souls as Game of the Year.[58] Electronic Gaming Monthly's Eric L. Patterson chose it as Game of the Year.[59] GameTrailers gave it the \"Best Role-Playing Game\" award,[60] while also nominating it for the \"Best Multiplayer Game,\" \"Best Trailer\" and \"Game of the Year\" awards.[61] GameZone gave the game the \"Best Action/Adventure\" award and chose it as the runner-up for the \"Best RPG\" award.[62]\n",
    "\n",
    "The Daily Telegraph gave the game the \"Best Integration of Online Features\" award, and nominated it for the awards of \"Best Director\" (Hidetaka Miyazaki), \"Best Level Design\", \"Best Sound Design\", \"Best Original Score\" (Motoi Sakuraba), \"Best Developer\" (FromSoftware), and \"Game of the Year\".[63] TeamXbox gave it an honorable mention as the runner-up for the \"Best RPG\" award.[64] 1UP.com gave it the \"Most Rewarding Game\" award.[65] Game Informer gave it the award for \"Best Boss Fight\" (Sif).[66] It also received the \"Best Boss Fights\" awards from GameSpot, including both the Editors' Choice and Readers' Choice awards.[67] Famitsu gave it an Award of Excellence in its 2012 awards ceremony.[68]\n",
    "\n",
    "At the 15th Annual Interactive Achievement Awards (now known as the D.I.C.E. Awards), Dark Souls was nominated for \"Role-Playing/Massively Multiplayer Game of the Year\".[69]\n",
    "\n",
    "In 2013, Digital Spy named Dark Souls the best game of the seventh console generation.[70] In 2014, Edge magazine named Dark Souls the best game of the seventh generation of game consoles, noting that while some may initially tire of it, \"We've yet to meet a single player for whom persistence has not been enough to transform apathy into all-consuming love.\" [71] In September 2015, Dark Souls topped the Edge's special issue The 100 Greatest Videogames.[72]\n",
    "\n",
    "In 2015, the game placed first on GamesRadar+'s \"The 100 best games ever\" list.[73] The game was also put first on USgamer's The 15 Best Games Since 2000 list.[74] The game was titled the \"Best RPG on PC\" by Rock, Paper, Shotgun.[75] In 2016, Dark Souls placed fifth on PC Gamer's \"Best RPGs of all time\" list.[76]"
   ]
  },
  {
   "cell_type": "markdown",
   "metadata": {},
   "source": [
    "## Legacy\n",
    "Dark Souls is often considered to be among the best games ever made.[77][78][79][80][81] Due to its design and philosophy, it is often cited as an essential instance of video games as an art form.[17][82][83] It is also considered one of the most influential video games of its generation;[84] in 2019, GameSpot named it one of the most influential games of the 21st century.[85]\n",
    "\n",
    "Games cited to have been influenced by Dark Souls include Destiny,[86] Alienation,[87] Lords of the Fallen,[88] The Surge[89] Salt and Sanctuary,[90] Shovel Knight,[91][92] Titan Souls,[91][93] Enter the Gungeon,[94] The Witcher 3: Wild Hunt,[95][96] Nioh,[97] God of War,[98][99] and Journey as well as features used on the PlayStation 4 console.[100] Dark Souls was also cited as an inspiration for the television show Stranger Things.[101]\n",
    "\n",
    "Sequels"
   ]
  },
  {
   "cell_type": "markdown",
   "metadata": {},
   "source": [
    "## References \n",
    " Mitchell, Richard (October 3, 2011). \"Dark Souls review: Brick walls and pancakes\". Engadget. Archived from the original on August 25, 2016. Retrieved September 10, 2016.\n",
    " \"Dark Souls Review\". IGN. September 30, 2011. Archived from the original on September 19, 2016. Retrieved September 10, 2016.\n",
    " Kollar, Phil (October 3, 2011). \"Dark Souls Review: Dead And Loving It\". Game Informer. Archived from the original on October 8, 2016. Retrieved September 10, 2016.\n",
    " Bischoff, Daniel (October 3, 2011). \"Dark Souls Review\". GameRevolution. Archived from the original on August 25, 2016. Retrieved September 10, 2016.\n",
    " Ahmed, Sayem (August 26, 2015). \"The rituals, strategies, honour and etiquette that keep Dark Souls PvP alive\". GamesRadar+. Archived from the original on August 14, 2018. Retrieved August 13, 2018.\n",
    " Entertainment, Bandai (June 25, 2018). \"Master Online play\". Archived from the original on August 14, 2018. Retrieved August 14, 2018.\n",
    " \"Souls - Overview\". Giant Bomb. Archived from the original on April 27, 2019. Retrieved April 27, 2019.\n",
    " Kollar, Phil (November 5, 2009). \"Demon's Souls Director Discusses Difficulty, Sequels, And More\". Game Informer. Archived from the original on November 11, 2018. Retrieved April 27, 2019.\n",
    " McWhertor, Michael (June 13, 2013). \"Sony studios head wants to see more Demon's Souls\". Polygon. Archived from the original on July 12, 2018. Retrieved April 27, 2019.\n",
    " Jin Ha Lee; Clarke, Rachel Ivy; Sacchi, Simone; Jett, Jacob (2014). \"Relationships among video games: Existing standards and new definitions\". Proceedings of the Association for Information Science and Technology. 51 (1): 1–11. doi:10.1002/meet.2014.14505101035.\n",
    " Gilyadov, Aleksander (May 30, 2016). \"Prepare To Die: A Brief History Of The Souls Series\". CGMagazine. Archived from the original on April 27, 2019. Retrieved April 27, 2019.\n",
    " Otsuka, Kadoman (2012). \"Dark Souls Interview\". Dark Souls Design Works. UDON Entertainment Corp. pp. 114–125. ISBN 978-1926778891.\n",
    " \"Dark Souls 3: Das komplette Gamescom-Interview mit Schöpfer Hidetaka Miyazaki\". PC Games (in German). August 12, 2015. Archived from the original on June 23, 2019. Retrieved June 22, 2019.\n",
    " \"Darks Souls and mythology\". Destructoid. January 1, 2014. Archived from the original on April 27, 2019. Retrieved April 27, 2019.\n",
    " Lowe, Kenneth (February 2019). \"Dark Souls and the Mythology of Ruin\". The Escapist. Archived from the original on April 27, 2019. Retrieved April 27, 2019.\n",
    " Yarwood, Jack (April 27, 2016). \"8 Videogame Characters Based On Japanese Folklore\". Paste. Archived from the original on April 27, 2019. Retrieved April 27, 2019.\n",
    " Podgorski, Daniel (April 24, 2019). \"Unchosen Undead: A Thorough Existentialist Philosophical Analysis of FromSoftware's Original Dark Souls\". The Gemsbok. Archived from the original on April 27, 2019. Retrieved April 27, 2019.\n",
    " \"The Real Dark Souls Starts Here: 13 Real-Life Inspirations for Lordran\". Archived from the original on August 9, 2020. Retrieved February 3, 2020.\n",
    " Conditt, Jessica (January 8, 2012). \"Dark Souls admin suggests PC could happen with a petition\". Engadget. joystiq. Archived from the original on April 27, 2019. Retrieved April 27, 2019.\n",
    " \"Petition: Dark Souls for PC\". January 6, 2012. Archived from the original on January 8, 2012. Retrieved January 9, 2012.\n",
    " Donaldson, Alex (April 7, 2012). \"Dark Souls PC confirmed in PC Action magazine\". rpgsite.net. Archived from the original on October 26, 2016. Retrieved October 26, 2016.\n",
    " Dutton, Fred (June 7, 2012). \"From Software \"having a tough time\" porting Dark Souls to PC, frame rate issues remain\". Eurogamer. Archived from the original on October 17, 2013. Retrieved October 14, 2013.\n",
    " Mudgal, Kartik (April 7, 2012). \"Dark Souls: Prepare to Die Edition coming to PC in August\". Gaming Bolt. Archived from the original on October 26, 2012. Retrieved April 27, 2019.\n",
    " Cullen, Johnny (May 31, 2012). \"Dark Souls PC coming to Steam, consoles to get PC content\". VG247. Archived from the original on June 2, 2012. Retrieved May 31, 2012.\n",
    " Makuch, Eddie. \"Gamers rallying against Dark Souls PC using Games for Windows Live\". CBS Interactive. Archived from the original on April 20, 2012. Retrieved April 16, 2012.\n",
    " Nelson, Mike (August 23, 2012). \"Modder Purportedly Fixes Dark Souls PC Resolution Limitations in 23 Minutes\". GameSpy. Archived from the original on March 11, 2016. Retrieved April 27, 2019.\n",
    " Walter, Maximilian (September 18, 2012). \"Dark Souls: Prepare to Die Edition - Fans bringen das Spiel auf 60FPS\". GameStar (in German). Archived from the original on December 3, 2013. Retrieved October 12, 2013. Die PC-Version des Action-Rollenspiels Dark Souls plagen ein paar Macken. Die fleißige Community hat sich diesen angenommen und einen Patch veröffentlicht, der die Auflösung erhöht und den Framelimiter aushebelt.\n",
    " Grabit, Anthony (December 15, 2014). \"Dark Souls™ Prepare To Die Edition update to replace the Games for Windows Live functionality with Steamworks is now live\". SteamCommunity.com. shoupinou. Archived from the original on December 18, 2014. Retrieved December 15, 2014.\n",
    " Frank, Allegra (February 16, 2016). \"Dark Souls Getting Xbox One Compatibility, Free with Dark Souls 3 Pre-Order\". Polygon. Archived from the original on October 5, 2016. Retrieved October 5, 2016.\n",
    " Mackey, Bob (October 4, 2011). \"Review: Dark Souls Shines, But You May Hate It (PS3, XBOX 360, PC)\". 1Up.com. Retrieved January 28, 2021.\n",
    " \"The ten amendments: we crown seven games from the last 20 years of Edge with a retrospective 10\". Edge. Bath: Future Publishing. Archived from the original on September 21, 2013. Retrieved February 22, 2014.\n",
    " \"Dark Souls review\". Edge. October 3, 2011. Archived from the original on October 5, 2011. Retrieved January 27, 2021.\n",
    " Welsh, Oli (October 3, 2011). \"Dark Souls Review • Page 1 • Reviews •\". Eurogamer. Archived from the original on January 16, 2012. Retrieved January 13, 2012.\n",
    " \"ダークソウル [PS3]\". Famitsu (in Japanese). Archived from the original on October 24, 2016. Retrieved July 23, 2018.\n",
    " Bailey, Kat (October 4, 2011). \"Review: Dark Souls (360/PS3)\". GamePro. Archived from the original on October 8, 2011. Retrieved January 28, 2021.\n",
    " VanOrd, Kevin (October 3, 2011). \"Dark Souls Review\". GameSpot. Archived from the original on March 12, 2017. Retrieved March 11, 2017.\n",
    " \"Dark Souls review\". GamesTM. October 3, 2011. Archived from the original on December 6, 2011. Retrieved January 28, 2021.\n",
    " MacDonald, Keza. \"Dark Souls Review\". IGN. Archived from the original on December 11, 2019. Retrieved February 4, 2020.\n",
    " Phil Kollar. \"Dark Souls Review: Dead And Loving It\". Game Informer. Archived from the original on August 5, 2020. Retrieved August 6, 2020.\n",
    " Mitchell, Richard (October 3, 2011). \"Dark Souls review: Brick walls and pancakes\". Joystiq. Archived from the original on October 25, 2011. Retrieved January 28, 2021.\n",
    " Markovic, Denny (October 21, 2011). \"Dark Souls Review\". PALGN. Archived from the original on December 22, 2011. Retrieved December 29, 2011.\n",
    " \"Dark Souls: Prepare to Die Edition for PC Reviews\". Metacritic. Retrieved December 23, 2013.\n",
    " \"Dark Souls for PlayStation 3 Reviews\". Metacritic. Retrieved December 19, 2011.\n",
    " \"Dark Souls for Xbox 360 Reviews\". Metacritic. Retrieved December 19, 2011.\n",
    " Gifford, Kevin (September 14, 2011). \"Japan Review Check: Dark Souls\". 1UP.com. Archived from the original on August 26, 2012. Retrieved September 23, 2011.\n",
    " Keza MacDonald (September 30, 2011). \"Dark Souls Review\". IGN. Archived from the original on June 16, 2018. Retrieved June 16, 2018.\n",
    " Killingsworth, Jason (March 2, 2012). \"Opinion: Long live the long RPG\". Edge. Bath: Future Publishing. Archived from the original on June 7, 2012. Retrieved December 8, 2012.\n",
    " \"Dark Souls - Zero Punctuation\". Archived from the original on October 6, 2014. Retrieved September 25, 2014.\n",
    " Croshaw, Ben (January 8, 2020). \"The 2010s' Most Significant Games - Zero Punctuation\". The Escapist. Archived from the original on January 17, 2020. Retrieved March 3, 2020.\n",
    " PS3 (May 8, 2012). \"Namco Bandai Touts Dark Souls Sales, Over 1.19 Million in US and Europe\". Playstationlifestyle.net. Archived from the original on June 1, 2012. Retrieved December 8, 2012.\n",
    " Phillips, Tom (April 12, 2013). \"Dark Souls worldwide sales total 2.3 million\". Eurogamer. Gamer Network. Archived from the original on June 7, 2015. Retrieved April 12, 2013.\n",
    " \"Dark Souls Worldwide Sales Exceed 2.3 Million Copies\". GamingUnion.net. April 13, 2013. Archived from the original on April 15, 2013. Retrieved April 13, 2013.\n",
    " Janicki, Stefan (September 30, 2012). \"Dark Souls: Prepare to Die Edition Review\". GameSpy. Archived from the original on October 12, 2012. Retrieved October 11, 2012.\n",
    " Stanton, Rich (August 28, 2012). \"Dark Souls: Prepare to Die Edition Review • Reviews • PC •\". Eurogamer. Archived from the original on December 11, 2012. Retrieved December 8, 2012.\n",
    " \"Dark Souls' producer says PC version was rushed, problems \"were expected\"\". Edge. Future plc. December 19, 2013. Archived from the original on January 20, 2014. Retrieved March 27, 2014.\n",
    " \"Community Choice Game of the Year\". Game Revolution. December 23, 2011. Archived from the original on April 2, 2013. Retrieved December 31, 2011.\n",
    " Robertson, John (December 25, 2011). \"Game of the Year 2011: #1 – Dark Souls\". IncGamers. United Kingdom. Archived from the original on January 24, 2012. Retrieved December 31, 2011.\n",
    " \"Developers' Games of 2011\". Eurogamer. January 2, 2012. Archived from the original on January 7, 2012. Retrieved January 7, 2012.\n",
    " Patterson, Eric L. (December 19, 2011). \"EGM'S BEST OF 2011: ERIC L. PATTERSON'S PICKS\". Electronic Gaming Monthly. Archived from the original on December 7, 2017. Retrieved January 7, 2012.\n",
    " \"Best Role-Playing Game\". GameTrailers. December 28, 2011. Archived from the original on January 7, 2012. Retrieved December 29, 2011.\n",
    " \"GameTrailers Game of the Year Awards 2011\". GameTrailers. Archived from the original on December 22, 2011. Retrieved December 31, 2011.\n",
    " Splechta, Mike (December 29, 2011). \"GameZone's Game of the Year Awards Day 3: Genre Awards\". GameZone. Archived from the original on January 11, 2012. Retrieved December 30, 2011.\n",
    " \"Telegraph video game awards 2011\". The Telegraph. December 27, 2011. Archived from the original on November 6, 2012. Retrieved December 29, 2011.\n",
    " Lord, Jesse (December 29, 2011). \"TeamXbox Best RPG of 2011\". TeamXbox. Archived from the original on January 7, 2012. Retrieved December 31, 2011.\n",
    " \"1UP's Best of 2011 Awards: Editors' Picks\". 1UP.com. December 22, 2011. Archived from the original on January 3, 2012. Retrieved December 31, 2011.\n",
    " Juba, Joe (December 30, 2011). \"The 2011 RPG Of The Year Awards\". Game Informer. p. 2. Archived from the original on January 7, 2012. Retrieved December 31, 2011.\n",
    " \"GameSpot's Best of 2011 Special Achievements\". GameSpot. December 30, 2011. Archived from the original on February 10, 2012. Retrieved December 31, 2011.\n",
    " \"ファミ通アワード2011、大賞は『モンスターハンター3（トライ）G』！ - ファミ通.com\". Famitsu (in Japanese). Archived from the original on November 28, 2019. Retrieved July 23, 2018.\n",
    " \"Dark Souls\". Academy of Interactive Arts & Sciences. Archived from the original on August 7, 2020. Retrieved April 9, 2020.\n",
    " Reynolds, Matthew (November 10, 2013). \"Why 'Dark Souls' is our game of the generation\". Digital Spy. Hearst Magazines UK. Archived from the original on February 21, 2016. Retrieved February 21, 2016.\n",
    " \"The Ten Best Games of the Generation\". Edge. Bath: Future Publishing (272): 74–81. November 2014.\n",
    " the 100 greatest videogames. Edge. Bath, UK: Future. 2015. p. 206. ISBN 978178389244-0.\n",
    " Houghton, David (March 6, 2015). \"Top 100: Why Dark Souls is simply the greatest game of all time\". GamesRadar+. Future US, Inc. Archived from the original on November 3, 2015. Retrieved February 20, 2016.\n",
    " Bailey, Kat (August 11, 2015). \"The 15 Best Games Since 2000, Number 1: Dark Souls\". USgamer. Gamer Network. Archived from the original on August 11, 2015. Retrieved August 11, 2015.\n",
    " \"The 50 Best RPG On PC\". Rock, Paper, Shotgun. July 10, 2015. Archived from the original on March 23, 2016. Retrieved February 29, 2016.\n",
    " \"The best RPGs of all time\". PC Gamer. Archived from the original on November 27, 2016. Retrieved February 19, 2016.\n",
    " Polygon Staff (November 27, 2017). \"The 500 Best Video Games of All Time\". Polygon.com. Archived from the original on March 3, 2018. Retrieved December 1, 2017.\n",
    " Tailford, Scott (September 1, 2017). \"30 Best Video Games Of All Time\". WhatCulture. Archived from the original on October 15, 2018. Retrieved October 28, 2017.\n",
    " \"The Top 300 Games of All Time\". Game Informer. No. 300. April 2018.\n",
    " \"Top 100 Games Of All Time\". IGN. 2015. Archived from the original on June 14, 2018. Retrieved October 28, 2017.\n",
    " \"The 100 Best Games of All-Time\". GamesRadar+. February 15, 2013. Archived from the original on March 21, 2015. Retrieved November 19, 2013. Note that GamesRadar has since made subtle adjustments to the list since its original 2013 publication date.\n",
    " \"Gaming as art: Dark Souls\". The Saint. November 16, 2016. Archived from the original on April 27, 2019. Retrieved April 27, 2019.\n",
    " McFerran, Damien (February 27, 2018). \"Why Dark Souls is a hardcore gamer's dream ticket\". Red Bull. Archived from the original on April 27, 2019. Retrieved April 27, 2019.\n",
    " Kain, Erik (November 22, 2013). \"'Dark Souls' Inspired The Design Of Sony's PlayStation 4\". Forbes. Archived from the original on October 5, 2018. Retrieved October 5, 2018.\n",
    " Hussain, Tamoor (May 14, 2019). \"The Most Influential Games Of The 21st Century: Dark Souls\". GameSpot. Archived from the original on May 14, 2019. Retrieved May 21, 2019.\n",
    " Slabaugh, Brett (December 18, 2013). \"Destiny Inspired by Dark Souls, Monster Hunter, Bungie Says\". The Escapist. Archived from the original on March 4, 2016. Retrieved April 9, 2015.\n",
    " Tach, Dave (August 22, 2014). \"How Dark Souls influenced Alienation, the next game from Resogun's developer\". Polygon. Archived from the original on April 24, 2016. Retrieved April 9, 2015.\n",
    " Makuch, Eddie (January 5, 2015). \"Lords of the Fallen Dev Talks Dark Souls Comparisons\". GameSpot. Archived from the original on April 7, 2015. Retrieved April 9, 2015.\n",
    " \"The Surge Is Like Dark Souls Except You Can Dismember Everyone\". Kotaku. Archived from the original on September 10, 2020. Retrieved August 12, 2020.\n",
    " McElroy, Griffin (August 28, 2013). \"How Salt and Sanctuary reimagines Dark Souls as a 2D action-platformer\". Polygon. Archived from the original on March 16, 2016. Retrieved April 9, 2015.\n",
    " Breault, Chris (February 24, 2014). \"How Do You Make An RPG After Dark Souls?\". Kill Screen. Archived from the original on August 28, 2015.\n",
    " Williams, Mike (May 24, 2014), \"Game Dev Recipes: Shovel Knight\", USgamer, archived from the original on May 25, 2014, retrieved May 26, 2014\n",
    " Hamilton, Andi (April 13, 2015). \"Titan Souls\". PCGamer. Archived from the original on March 9, 2016. Retrieved April 20, 2015.\n",
    " Crooks, Dave. \"How to Get Started in Enter the Gungeon on PS4\". PlayStation.Blog. Archived from the original on July 31, 2017. Retrieved April 18, 2016.\n",
    " Purchese, Robert (November 28, 2013). \"The Witcher 3: What is a next-gen RPG?\". Eurogamer. Archived from the original on June 11, 2017. Retrieved September 10, 2016.\n",
    " Jones, Gary (March 30, 2015). \"Witcher 3: Why Dark Souls has proved a big influence, new details on 200+ hours gameplay\". Daily Express. Archived from the original on June 11, 2017. Retrieved September 10, 2016.\n",
    " Matulef, Jeffrey (October 4, 2016). \"Nioh director Fumihiko Yasuda on difficulty, player feedback and what's changing\". Eurogamer. Archived from the original on October 7, 2016. Retrieved May 25, 2017.\n",
    " \"God of War's New Combat System Explained\". YouTube. March 19, 2018. Archived from the original on April 18, 2018. Retrieved May 1, 2018.\n",
    " \"\"It Has to Be Personal\" Says 'God of War' Creative Director Cory Barlog\". Rolling Stone. Archived from the original on May 1, 2018. Retrieved June 20, 2017.\n",
    " McWhertor, Michael (November 21, 2013). \"Demon's Souls and Dark Souls inspired PS4's design, says Shuhei Yoshida\". Polygon. Archived from the original on November 16, 2019. Retrieved December 10, 2019.\n",
    " Tilly, Chris (August 26, 2016). \"How Silent Hill, Dark Souls and The Last of Us Influenced Stranger Things\". IGN. Archived from the original on November 17, 2019. Retrieved October 13, 2018.\n",
    " Watts, Steve (December 7, 2012). \"Dark Souls 2 announced\". Shacknews. Archived from the original on December 9, 2012. Retrieved December 8, 2012.\n",
    " Fogel, Stefanie (June 11, 2013). \"Namco Bandai assures fans that Dark Souls II will be 'viciously hard'\". VentureBeat. Archived from the original on August 13, 2013. Retrieved August 2, 2013.\n",
    " Makuch, Eddie (April 6, 2014). \"Dark Souls 2 gets PC release date, dev promises \"increased texture resolution\"\". GameSpot. Archived from the original on October 22, 2014. Retrieved September 1, 2014.\n",
    " Albert, Brian. \"DARK SOULS II COMING TO XBOX ONE, PS4 NEXT YEAR\". IGN. Archived from the original on October 30, 2015. Retrieved September 28, 2015.\n",
    " McCormick, Rich (June 16, 2015). \"Dark Souls 3 is bringing brutally hard battling back to PS4, Xbox One, and PC\". The Verge. Archived from the original on October 21, 2017. Retrieved August 30, 2017.\n",
    " \"Dark Souls Remastered for PC Reviews\". Metacritic. CBS Interactive. Archived from the original on October 5, 2018. Retrieved September 19, 2018.\n",
    " \"Dark Souls Remastered for PlayStation 4 Reviews\". Metacritic. CBS Interactive. Archived from the original on May 25, 2018. Retrieved April 21, 2019.\n",
    " \"Dark Souls Remastered for Xbox One Reviews\". Metacritic. CBS Interactive. Archived from the original on October 5, 2018. Retrieved September 19, 2018.\n",
    " \"Dark Souls Remastered for Switch Reviews\". Metacritic. CBS Interactive. Archived from the original on December 25, 2018. Retrieved November 1, 2018.\n",
    " \"Review: Dark Souls Remastered\". Destructoid. May 25, 2018. Archived from the original on July 20, 2018. Retrieved June 16, 2018.\n",
    " Tack, Daniel (May 23, 2018). \"Dark Souls Remastered – Gently Modifying A Masterpiece\". Game Informer. Archived from the original on April 29, 2019. Retrieved April 27, 2019.\n",
    " \"Dark Souls Remastered Review\". IGN. May 23, 2018. Archived from the original on June 16, 2018. Retrieved June 16, 2018.\n",
    " McWhertor, Michael (April 17, 2018). \"Dark Souls: Remastered for Switch delayed\". Polygon. Archived from the original on May 24, 2018. Retrieved May 24, 2018.\n",
    " McWhertor, Michael. \"Dark Souls coming to Nintendo Switch on Oct. 19\". Polygon. Archived from the original on August 15, 2018. Retrieved August 14, 2018.\n",
    " McWhertor, Michael. \"Dark Souls: Remastered coming to PC, PS4 and Xbox One\". Polygon. Archived from the original on May 24, 2018. Retrieved January 11, 2018.\n",
    " Saed, Sherif. \"Dark Souls Remastered announced for PC, PS4, Xbox One with 4K and 60fps\". VG247. Archived from the original on January 14, 2018. Retrieved January 14, 2018.\n",
    " Agnew, Callum. \"Can the Nintendo Switch Handle a Dark Souls Remaster?\". Game Revolution. Archived from the original on January 14, 2018. Retrieved January 14, 2018.\n",
    " O'Brien, Lucy (April 3, 2018). \"Here are All the Differences Between Dark Souls and Dark Souls Remastered\". IGN. Archived from the original on May 24, 2018. Retrieved May 24, 2018.\n",
    " Khan, Imran (May 24, 2018). \"Dark Souls Remastered On PC Already Falling Victim To Infamous Hackers\". Game Informer. Archived from the original on August 21, 2019. Retrieved April 27, 2019.\n",
    " Caldwell, Brendan (June 7, 2018). \"'I wish they had good anti-cheat,' says Dark Souls hacker\". Rock, Paper, Shotgun. Archived from the original on March 23, 2019. Retrieved April 27, 2019.\n",
    " Scott-Jones, Richard. \"Dark Souls Remastered review scores - our roundup of the critics\". PCGamesN. Archived from the original on May 24, 2018. Retrieved May 24, 2018.\n",
    " Romano, Sal (May 30, 2018). \"Media Create Sales: 5/21/18 – 5/27/18\". Gematsu. Archived from the original on May 31, 2018. Retrieved May 31, 2018."
   ]
  },
  {
   "cell_type": "code",
   "execution_count": null,
   "metadata": {},
   "outputs": [],
   "source": []
  }
 ],
 "metadata": {
  "kernelspec": {
   "display_name": "Python 3",
   "language": "python",
   "name": "python3"
  },
  "language_info": {
   "codemirror_mode": {
    "name": "ipython",
    "version": 3
   },
   "file_extension": ".py",
   "mimetype": "text/x-python",
   "name": "python",
   "nbconvert_exporter": "python",
   "pygments_lexer": "ipython3",
   "version": "3.8.5"
  }
 },
 "nbformat": 4,
 "nbformat_minor": 4
}
